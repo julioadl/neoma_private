{
 "cells": [
  {
   "cell_type": "markdown",
   "metadata": {},
   "source": [
    "# Analyzing Twitter Trends\n",
    "\n",
    "## Introduction\n",
    "\n",
    "The following set of tasks will guide you through the process required to derive basic trend analytics using data from online social network Twitter. Please notice that this is only a guideline of the steps you should follow and by no means is extensive. You are expected to look for help with your peers and online as much as you can. However, you're expected to use the packages reviewed in class: 'pandas' and 'networkx' "
   ]
  },
  {
   "cell_type": "markdown",
   "metadata": {},
   "source": [
    "## Exercises\n",
    "\n",
    "### 1. Setting a working environment.\n",
    "\n",
    "Load the file 'tweets.csv' from your notebook. Write down your code here:"
   ]
  },
  {
   "cell_type": "code",
   "execution_count": 1,
   "metadata": {},
   "outputs": [],
   "source": [
    "### Your code here [~2 lines]\n",
    "\n",
    "\n",
    "###"
   ]
  },
  {
   "cell_type": "markdown",
   "metadata": {},
   "source": [
    "### 2. Exploratory analysis\n",
    "Load the first 10 lines of your file. How does the file look like? Can you obtain any trend from the information here?"
   ]
  },
  {
   "cell_type": "code",
   "execution_count": 2,
   "metadata": {},
   "outputs": [],
   "source": [
    "### Your code here [~2 lines]\n",
    "\n",
    "\n",
    "###"
   ]
  },
  {
   "cell_type": "markdown",
   "metadata": {},
   "source": [
    "### 3. Twitter trends\n",
    "3.1 Obtain unique values from the variable 'screen_name' and save them into a 'pandas.Series'"
   ]
  },
  {
   "cell_type": "code",
   "execution_count": 3,
   "metadata": {},
   "outputs": [],
   "source": [
    "### Your code here [~2 lines]\n",
    "\n",
    "\n",
    "###"
   ]
  },
  {
   "cell_type": "markdown",
   "metadata": {},
   "source": [
    "3.2 Count the number of rows for each of the values in 3.1 to obtain the top Twitters of the sample. Save them in a 'pandas.Series'"
   ]
  },
  {
   "cell_type": "code",
   "execution_count": 4,
   "metadata": {},
   "outputs": [],
   "source": [
    "### Your code here [~2 lines]\n",
    "\n",
    "\n",
    "###"
   ]
  },
  {
   "cell_type": "markdown",
   "metadata": {},
   "source": [
    "3.3 Sort the series in 3.2 to obtain top Twitters"
   ]
  },
  {
   "cell_type": "code",
   "execution_count": 5,
   "metadata": {},
   "outputs": [],
   "source": [
    "### Your code here [~1 line]\n",
    "\n",
    "###"
   ]
  },
  {
   "cell_type": "markdown",
   "metadata": {},
   "source": [
    "### 4. Defining functions\n",
    "\n",
    "Now, build a function named 'counts' that takes one string variable and returns a sorted series that contains counts for each vale. \n",
    "\n",
    "NOTICE: Do not evaluate the variable 'text' in this function."
   ]
  },
  {
   "cell_type": "code",
   "execution_count": 6,
   "metadata": {},
   "outputs": [],
   "source": [
    "### Your code here [~6 lines]\n",
    "def counts(stringVariable):\n",
    "    \n",
    "    \n",
    "    \n",
    "    return\n",
    "###"
   ]
  },
  {
   "cell_type": "markdown",
   "metadata": {},
   "source": [
    "### 5. Time-series\n",
    "\n",
    "5.1 Use the function above to calculate the number of tweets per day. Save the series in a variable called 'ts'"
   ]
  },
  {
   "cell_type": "code",
   "execution_count": 7,
   "metadata": {},
   "outputs": [],
   "source": [
    "### Your code here [~1 line]\n",
    "\n",
    "###"
   ]
  },
  {
   "cell_type": "markdown",
   "metadata": {},
   "source": [
    "5.2 Convert the series into time format and re-sort them according to the time values."
   ]
  },
  {
   "cell_type": "code",
   "execution_count": 8,
   "metadata": {},
   "outputs": [],
   "source": [
    "### Your code here [~1 line]\n",
    "\n",
    "###"
   ]
  },
  {
   "cell_type": "markdown",
   "metadata": {},
   "source": [
    "### 6. Plot your time series. \n",
    "\n",
    "Use the library matplotlib to plot your time series"
   ]
  },
  {
   "cell_type": "code",
   "execution_count": 9,
   "metadata": {},
   "outputs": [],
   "source": [
    "### Your code here [~1 line]\n",
    "\n",
    "###"
   ]
  },
  {
   "cell_type": "markdown",
   "metadata": {},
   "source": [
    "### 7. Networks\n",
    "\n",
    "You want to know which hashtags came from which countries. To do this you can build a network with nodes being 'Countries' and 'hashtags' and edges directed from 'Country' -> 'Hashtag'.\n",
    "\n",
    "7.1 Reduce your dataset to the first 50 rows and drop every column but 'hashtags' and 'location'"
   ]
  },
  {
   "cell_type": "code",
   "execution_count": 10,
   "metadata": {},
   "outputs": [],
   "source": [
    "### Your code here [~ 2 lines]\n",
    "\n",
    "\n",
    "###"
   ]
  },
  {
   "cell_type": "markdown",
   "metadata": {},
   "source": [
    "7.2 Convert the 'pandas.DataFrame' into a 'List'. Initiate a networkX graph and loop through the list to add all of the nodes.\n",
    "\n",
    "NOTICE: If you have a NaN value, just skip it\n",
    "NOTICE: use EXCLUSIVELY a 'for' loop"
   ]
  },
  {
   "cell_type": "code",
   "execution_count": 13,
   "metadata": {
    "scrolled": false
   },
   "outputs": [],
   "source": [
    "### Your code here [~17 lines]\n",
    "#List 1 here. Name it 'hashtags'\n",
    "\n",
    "#List 2 here. Name it 'location'\n",
    "\n",
    "#Generate empty array of nodes here. Name it 'nodes'\n",
    "\n",
    "#Loop through lists 1 and append the values to the array\n",
    "#for node in hashtags:\n",
    "    \n",
    "    \n",
    "#Now loop through locations\n",
    "#for node in locations:\n",
    "    \n",
    "\n",
    "#Initiate a networkX graph here\n",
    "\n",
    "#Add the nodes to your graph\n",
    "\n",
    "###"
   ]
  },
  {
   "cell_type": "markdown",
   "metadata": {},
   "source": [
    "7.3 Use the lists 'hashtags' and 'locations' to build tuples representing the edges. Pay special attention to NAs as you MUST NOT include them. You can loop as in 7.2 to do this. Add them to the graph."
   ]
  },
  {
   "cell_type": "code",
   "execution_count": 12,
   "metadata": {},
   "outputs": [],
   "source": [
    "### Your code here [~17 lines]\n",
    "\n",
    "###"
   ]
  },
  {
   "cell_type": "markdown",
   "metadata": {},
   "source": [
    "7.4 Plot the graphic using matplotlib"
   ]
  },
  {
   "cell_type": "code",
   "execution_count": null,
   "metadata": {},
   "outputs": [],
   "source": [
    "### Your code here [~3 lines]\n",
    "\n",
    "\n",
    "###"
   ]
  }
 ],
 "metadata": {
  "kernelspec": {
   "display_name": "Python 3",
   "language": "python",
   "name": "python3"
  },
  "language_info": {
   "codemirror_mode": {
    "name": "ipython",
    "version": 3
   },
   "file_extension": ".py",
   "mimetype": "text/x-python",
   "name": "python",
   "nbconvert_exporter": "python",
   "pygments_lexer": "ipython3",
   "version": "3.7.3"
  }
 },
 "nbformat": 4,
 "nbformat_minor": 2
}
